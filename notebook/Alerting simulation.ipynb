{
 "cells": [
  {
   "cell_type": "code",
   "execution_count": 1,
   "id": "52e8376f",
   "metadata": {},
   "outputs": [],
   "source": [
    "from synthetic.generate import generate_sessions"
   ]
  },
  {
   "cell_type": "code",
   "execution_count": 10,
   "id": "678d1f0b",
   "metadata": {},
   "outputs": [],
   "source": [
    "import datetime as dt"
   ]
  },
  {
   "cell_type": "code",
   "execution_count": 13,
   "id": "fad8f2b2",
   "metadata": {},
   "outputs": [
    {
     "name": "stdout",
     "output_type": "stream",
     "text": [
      "Generating user 0 / 10000\n",
      "Generating user 1000 / 10000\n",
      "Generating user 2000 / 10000\n",
      "Generating user 3000 / 10000\n",
      "Generating user 4000 / 10000\n",
      "Generating user 5000 / 10000\n",
      "Generating user 6000 / 10000\n",
      "Generating user 7000 / 10000\n",
      "Generating user 8000 / 10000\n",
      "Generating user 9000 / 10000\n"
     ]
    }
   ],
   "source": [
    "sample = generate_sessions(10_000, dt.date(2022, 2, 1), dt.date(2022, 8, 1))"
   ]
  },
  {
   "cell_type": "code",
   "execution_count": 14,
   "id": "722b455d",
   "metadata": {},
   "outputs": [
    {
     "data": {
      "text/html": [
       "<div>\n",
       "<style scoped>\n",
       "    .dataframe tbody tr th:only-of-type {\n",
       "        vertical-align: middle;\n",
       "    }\n",
       "\n",
       "    .dataframe tbody tr th {\n",
       "        vertical-align: top;\n",
       "    }\n",
       "\n",
       "    .dataframe thead th {\n",
       "        text-align: right;\n",
       "    }\n",
       "</style>\n",
       "<table border=\"1\" class=\"dataframe\">\n",
       "  <thead>\n",
       "    <tr style=\"text-align: right;\">\n",
       "      <th></th>\n",
       "      <th>timestamp</th>\n",
       "      <th>user_id</th>\n",
       "      <th>url</th>\n",
       "      <th>page_type</th>\n",
       "      <th>platform</th>\n",
       "      <th>domain</th>\n",
       "      <th>deal</th>\n",
       "      <th>transaction</th>\n",
       "    </tr>\n",
       "  </thead>\n",
       "  <tbody>\n",
       "    <tr>\n",
       "      <th>0</th>\n",
       "      <td>2022-02-01 00:15:48.199482</td>\n",
       "      <td>4653</td>\n",
       "      <td>www.examplesite.it/home</td>\n",
       "      <td>home</td>\n",
       "      <td>www</td>\n",
       "      <td>it</td>\n",
       "      <td>None</td>\n",
       "      <td>None</td>\n",
       "    </tr>\n",
       "    <tr>\n",
       "      <th>0</th>\n",
       "      <td>2022-02-01 00:24:41.460302</td>\n",
       "      <td>2297</td>\n",
       "      <td>www.examplesite.sp/home</td>\n",
       "      <td>home</td>\n",
       "      <td>www</td>\n",
       "      <td>sp</td>\n",
       "      <td>None</td>\n",
       "      <td>None</td>\n",
       "    </tr>\n",
       "    <tr>\n",
       "      <th>0</th>\n",
       "      <td>2022-02-01 01:29:27.051946</td>\n",
       "      <td>8381</td>\n",
       "      <td>www.examplesite.co.uk/home</td>\n",
       "      <td>home</td>\n",
       "      <td>www</td>\n",
       "      <td>co.uk</td>\n",
       "      <td>None</td>\n",
       "      <td>None</td>\n",
       "    </tr>\n",
       "    <tr>\n",
       "      <th>0</th>\n",
       "      <td>2022-02-01 01:29:32.009343</td>\n",
       "      <td>8381</td>\n",
       "      <td>www.examplesite.co.uk/deal/528</td>\n",
       "      <td>deal</td>\n",
       "      <td>www</td>\n",
       "      <td>co.uk</td>\n",
       "      <td>528</td>\n",
       "      <td>None</td>\n",
       "    </tr>\n",
       "    <tr>\n",
       "      <th>0</th>\n",
       "      <td>2022-02-01 01:29:51.984154</td>\n",
       "      <td>8381</td>\n",
       "      <td>www.examplesite.co.uk/deal/656</td>\n",
       "      <td>deal</td>\n",
       "      <td>www</td>\n",
       "      <td>co.uk</td>\n",
       "      <td>656</td>\n",
       "      <td>None</td>\n",
       "    </tr>\n",
       "  </tbody>\n",
       "</table>\n",
       "</div>"
      ],
      "text/plain": [
       "                   timestamp user_id                             url  \\\n",
       "0 2022-02-01 00:15:48.199482    4653         www.examplesite.it/home   \n",
       "0 2022-02-01 00:24:41.460302    2297         www.examplesite.sp/home   \n",
       "0 2022-02-01 01:29:27.051946    8381      www.examplesite.co.uk/home   \n",
       "0 2022-02-01 01:29:32.009343    8381  www.examplesite.co.uk/deal/528   \n",
       "0 2022-02-01 01:29:51.984154    8381  www.examplesite.co.uk/deal/656   \n",
       "\n",
       "  page_type platform domain  deal transaction  \n",
       "0      home      www     it  None        None  \n",
       "0      home      www     sp  None        None  \n",
       "0      home      www  co.uk  None        None  \n",
       "0      deal      www  co.uk   528        None  \n",
       "0      deal      www  co.uk   656        None  "
      ]
     },
     "execution_count": 14,
     "metadata": {},
     "output_type": "execute_result"
    }
   ],
   "source": [
    "sample.head()"
   ]
  },
  {
   "cell_type": "code",
   "execution_count": null,
   "id": "2cbf42ca",
   "metadata": {},
   "outputs": [],
   "source": []
  }
 ],
 "metadata": {
  "kernelspec": {
   "display_name": "Python 3 (ipykernel)",
   "language": "python",
   "name": "python3"
  },
  "language_info": {
   "codemirror_mode": {
    "name": "ipython",
    "version": 3
   },
   "file_extension": ".py",
   "mimetype": "text/x-python",
   "name": "python",
   "nbconvert_exporter": "python",
   "pygments_lexer": "ipython3",
   "version": "3.9.2"
  }
 },
 "nbformat": 4,
 "nbformat_minor": 5
}
